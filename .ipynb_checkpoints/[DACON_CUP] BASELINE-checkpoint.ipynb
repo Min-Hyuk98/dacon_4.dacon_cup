{
 "cells": [
  {
   "cell_type": "markdown",
   "metadata": {},
   "source": [
    "# library import"
   ]
  },
  {
   "cell_type": "code",
   "execution_count": 1,
   "metadata": {},
   "outputs": [],
   "source": [
    "import pandas as pd\n",
    "import numpy as np\n",
    "import warnings\n",
    "warnings.filterwarnings(action='ignore')\n",
    "import torch\n",
    "import torch.nn as nn\n",
    "import torch.nn.functional as F\n",
    "import torchvision\n",
    "import torchvision.transforms as transforms\n",
    "from torch.utils.data import Dataset,DataLoader\n",
    "import torch.optim as optim\n",
    "torch.manual_seed(1015)\n",
    "# define 'device' to upload tensor in gpu\n",
    "device = torch.device(\"cuda:0\" if torch.cuda.is_available() else \"cpu\")"
   ]
  },
  {
   "cell_type": "markdown",
   "metadata": {},
   "source": [
    "# 데이터 불러오기"
   ]
  },
  {
   "cell_type": "code",
   "execution_count": 2,
   "metadata": {},
   "outputs": [],
   "source": [
    "train = pd.read_csv(\"./open_data/train.csv\", encoding = 'euc-kr')\n",
    "train['DateTime'] = pd.to_datetime(train.DateTime)\n",
    "train['date'] = train.DateTime.dt.date\n",
    "train  = train.groupby('date').sum().reset_index()"
   ]
  },
  {
   "cell_type": "code",
   "execution_count": 3,
   "metadata": {},
   "outputs": [
    {
     "data": {
      "text/plain": [
       "(792, 5)"
      ]
     },
     "execution_count": 3,
     "metadata": {},
     "output_type": "execute_result"
    }
   ],
   "source": [
    "train.shape"
   ]
  },
  {
   "cell_type": "code",
   "execution_count": 4,
   "metadata": {},
   "outputs": [
    {
     "data": {
      "text/html": [
       "<div>\n",
       "<style scoped>\n",
       "    .dataframe tbody tr th:only-of-type {\n",
       "        vertical-align: middle;\n",
       "    }\n",
       "\n",
       "    .dataframe tbody tr th {\n",
       "        vertical-align: top;\n",
       "    }\n",
       "\n",
       "    .dataframe thead th {\n",
       "        text-align: right;\n",
       "    }\n",
       "</style>\n",
       "<table border=\"1\" class=\"dataframe\">\n",
       "  <thead>\n",
       "    <tr style=\"text-align: right;\">\n",
       "      <th></th>\n",
       "      <th>date</th>\n",
       "      <th>사용자</th>\n",
       "      <th>세션</th>\n",
       "      <th>신규방문자</th>\n",
       "      <th>페이지뷰</th>\n",
       "    </tr>\n",
       "  </thead>\n",
       "  <tbody>\n",
       "    <tr>\n",
       "      <th>0</th>\n",
       "      <td>2018-09-09</td>\n",
       "      <td>281</td>\n",
       "      <td>266</td>\n",
       "      <td>73</td>\n",
       "      <td>1826</td>\n",
       "    </tr>\n",
       "    <tr>\n",
       "      <th>1</th>\n",
       "      <td>2018-09-10</td>\n",
       "      <td>264</td>\n",
       "      <td>247</td>\n",
       "      <td>51</td>\n",
       "      <td>2092</td>\n",
       "    </tr>\n",
       "    <tr>\n",
       "      <th>2</th>\n",
       "      <td>2018-09-11</td>\n",
       "      <td>329</td>\n",
       "      <td>310</td>\n",
       "      <td>58</td>\n",
       "      <td>1998</td>\n",
       "    </tr>\n",
       "    <tr>\n",
       "      <th>3</th>\n",
       "      <td>2018-09-12</td>\n",
       "      <td>300</td>\n",
       "      <td>287</td>\n",
       "      <td>45</td>\n",
       "      <td>2595</td>\n",
       "    </tr>\n",
       "    <tr>\n",
       "      <th>4</th>\n",
       "      <td>2018-09-13</td>\n",
       "      <td>378</td>\n",
       "      <td>344</td>\n",
       "      <td>50</td>\n",
       "      <td>3845</td>\n",
       "    </tr>\n",
       "  </tbody>\n",
       "</table>\n",
       "</div>"
      ],
      "text/plain": [
       "         date  사용자   세션  신규방문자  페이지뷰\n",
       "0  2018-09-09  281  266     73  1826\n",
       "1  2018-09-10  264  247     51  2092\n",
       "2  2018-09-11  329  310     58  1998\n",
       "3  2018-09-12  300  287     45  2595\n",
       "4  2018-09-13  378  344     50  3845"
      ]
     },
     "execution_count": 4,
     "metadata": {},
     "output_type": "execute_result"
    }
   ],
   "source": [
    "train.head()"
   ]
  },
  {
   "cell_type": "markdown",
   "metadata": {},
   "source": [
    "# 데이터 수정"
   ]
  },
  {
   "cell_type": "code",
   "execution_count": 5,
   "metadata": {},
   "outputs": [],
   "source": [
    "# scaling\n",
    "mini = train.iloc[:,1:].min()\n",
    "size = train.iloc[:,1:].max() - train.iloc[:,1:].min()\n",
    "train.iloc[:,1:] = (train.iloc[:,1:] -  mini) / size # 모든 수를 1 이하로 scaling\n",
    "input_window = 30\n",
    "output_window = 7\n",
    "\n",
    "window_x = np.zeros((train.shape[0] - (input_window + output_window), input_window, 4))\n",
    "window_y = np.zeros((train.shape[0] - (input_window + output_window), output_window, 4))\n",
    "\n",
    "for start in range(train.shape[0] - (input_window + output_window)):\n",
    "    end = start + input_window    \n",
    "    window_x[start,:, :] = train.iloc[start : end                , 1: ].values\n",
    "    window_y[start,:, :] = train.iloc[end   : end + output_window, 1: ].values\n",
    "# [--------------\\-------\\--]\n",
    "# 현재행 ~ 현재행 + 30일 을 x로 줄때 \n",
    "# 현재행 + 30 ~ 현재행 + 37을 y로 본다 "
   ]
  },
  {
   "cell_type": "code",
   "execution_count": null,
   "metadata": {},
   "outputs": [],
   "source": []
  },
  {
   "cell_type": "markdown",
   "metadata": {},
   "source": [
    "# model 생성"
   ]
  },
  {
   "cell_type": "code",
   "execution_count": 6,
   "metadata": {},
   "outputs": [],
   "source": [
    "class LSTM(nn.Module):\n",
    "    def __init__(self, input_size, hidden_size):\n",
    "        super(LSTM, self).__init__()\n",
    "        self.hidden_size = hidden_size\n",
    "        self.lstm = nn.LSTM(input_size = input_size,\n",
    "                            hidden_size = hidden_size,\n",
    "                            num_layers = 3,\n",
    "                            batch_first = True,\n",
    "                            dropout = 0.3,\n",
    "                            bidirectional = True,)\n",
    "        self.time_fc = nn.Linear(hidden_size*2, 4)\n",
    "    \n",
    "    def forward(self, x_time):\n",
    "#         print(x_time.shape)\n",
    "        out_time, _ = self.lstm(x_time)\n",
    "#         print(out_time.shape)\n",
    "#         print(out_time[:,-7:, :].shape)\n",
    "        out_time = self.time_fc(out_time[:,-7:, :])\n",
    "#         print(out_time.shape,'\\n')\n",
    "        return out_time.view(-1,7,4)\n",
    "    \n",
    "model = LSTM(input_size = 4, hidden_size = 40).to(device)"
   ]
  },
  {
   "cell_type": "markdown",
   "metadata": {},
   "source": [
    "# 학습"
   ]
  },
  {
   "cell_type": "code",
   "execution_count": 7,
   "metadata": {
    "scrolled": true
   },
   "outputs": [
    {
     "data": {
      "text/plain": [
       "(755, 30, 4)"
      ]
     },
     "execution_count": 7,
     "metadata": {},
     "output_type": "execute_result"
    }
   ],
   "source": [
    "window_x.shape"
   ]
  },
  {
   "cell_type": "code",
   "execution_count": 8,
   "metadata": {},
   "outputs": [
    {
     "data": {
      "text/plain": [
       "(755, 7, 4)"
      ]
     },
     "execution_count": 8,
     "metadata": {},
     "output_type": "execute_result"
    }
   ],
   "source": [
    "window_y.shape"
   ]
  },
  {
   "cell_type": "code",
   "execution_count": 9,
   "metadata": {
    "scrolled": true
   },
   "outputs": [
    {
     "name": "stdout",
     "output_type": "stream",
     "text": [
      "10 Epochs train MSE: 0.00957\n",
      "20 Epochs train MSE: 0.00803\n",
      "30 Epochs train MSE: 0.00747\n",
      "40 Epochs train MSE: 0.00719\n",
      "50 Epochs train MSE: 0.00696\n",
      "60 Epochs train MSE: 0.00682\n",
      "70 Epochs train MSE: 0.00671\n",
      "80 Epochs train MSE: 0.00651\n",
      "90 Epochs train MSE: 0.00661\n",
      "100 Epochs train MSE: 0.00640\n",
      "110 Epochs train MSE: 0.00601\n",
      "120 Epochs train MSE: 0.00560\n",
      "130 Epochs train MSE: 0.00558\n",
      "140 Epochs train MSE: 0.00506\n",
      "150 Epochs train MSE: 0.00500\n",
      "160 Epochs train MSE: 0.00476\n",
      "170 Epochs train MSE: 0.00497\n",
      "180 Epochs train MSE: 0.00473\n",
      "190 Epochs train MSE: 0.00443\n",
      "200 Epochs train MSE: 0.00430\n",
      "210 Epochs train MSE: 0.00508\n",
      "220 Epochs train MSE: 0.00432\n",
      "230 Epochs train MSE: 0.00394\n",
      "240 Epochs train MSE: 0.00360\n",
      "250 Epochs train MSE: 0.00330\n",
      "260 Epochs train MSE: 0.00319\n",
      "270 Epochs train MSE: 0.00297\n",
      "280 Epochs train MSE: 0.00285\n",
      "290 Epochs train MSE: 0.00284\n",
      "300 Epochs train MSE: 0.00266\n",
      "310 Epochs train MSE: 0.00239\n",
      "320 Epochs train MSE: 0.00247\n",
      "330 Epochs train MSE: 0.00224\n",
      "340 Epochs train MSE: 0.00219\n",
      "350 Epochs train MSE: 0.00203\n",
      "360 Epochs train MSE: 0.00189\n",
      "370 Epochs train MSE: 0.00180\n",
      "380 Epochs train MSE: 0.00177\n",
      "390 Epochs train MSE: 0.00172\n",
      "400 Epochs train MSE: 0.00168\n",
      "410 Epochs train MSE: 0.00159\n",
      "420 Epochs train MSE: 0.00155\n",
      "430 Epochs train MSE: 0.00150\n",
      "440 Epochs train MSE: 0.00146\n",
      "450 Epochs train MSE: 0.00141\n",
      "460 Epochs train MSE: 0.00139\n",
      "470 Epochs train MSE: 0.00141\n",
      "480 Epochs train MSE: 0.00133\n",
      "490 Epochs train MSE: 0.00128\n",
      "500 Epochs train MSE: 0.00122\n",
      "510 Epochs train MSE: 0.00120\n",
      "520 Epochs train MSE: 0.00118\n",
      "530 Epochs train MSE: 0.00117\n",
      "540 Epochs train MSE: 0.00112\n",
      "550 Epochs train MSE: 0.00105\n",
      "560 Epochs train MSE: 0.00099\n",
      "570 Epochs train MSE: 0.00100\n",
      "580 Epochs train MSE: 0.00096\n",
      "590 Epochs train MSE: 0.00094\n",
      "600 Epochs train MSE: 0.00100\n",
      "610 Epochs train MSE: 0.00093\n",
      "620 Epochs train MSE: 0.00085\n",
      "630 Epochs train MSE: 0.00083\n",
      "640 Epochs train MSE: 0.00081\n",
      "650 Epochs train MSE: 0.00078\n",
      "660 Epochs train MSE: 0.00073\n",
      "670 Epochs train MSE: 0.00073\n",
      "680 Epochs train MSE: 0.00072\n",
      "690 Epochs train MSE: 0.00080\n",
      "700 Epochs train MSE: 0.00069\n",
      "710 Epochs train MSE: 0.00073\n",
      "720 Epochs train MSE: 0.00065\n",
      "730 Epochs train MSE: 0.00066\n",
      "740 Epochs train MSE: 0.00061\n",
      "750 Epochs train MSE: 0.00073\n",
      "760 Epochs train MSE: 0.00066\n",
      "770 Epochs train MSE: 0.00060\n",
      "780 Epochs train MSE: 0.00056\n",
      "790 Epochs train MSE: 0.00052\n",
      "800 Epochs train MSE: 0.00050\n",
      "810 Epochs train MSE: 0.00047\n",
      "820 Epochs train MSE: 0.00045\n",
      "830 Epochs train MSE: 0.00046\n",
      "840 Epochs train MSE: 0.00042\n",
      "850 Epochs train MSE: 0.00044\n",
      "860 Epochs train MSE: 0.00040\n",
      "870 Epochs train MSE: 0.00040\n",
      "880 Epochs train MSE: 0.00041\n",
      "890 Epochs train MSE: 0.00040\n",
      "900 Epochs train MSE: 0.00038\n",
      "910 Epochs train MSE: 0.00038\n",
      "920 Epochs train MSE: 0.00035\n",
      "930 Epochs train MSE: 0.00035\n",
      "940 Epochs train MSE: 0.00035\n",
      "950 Epochs train MSE: 0.00036\n",
      "960 Epochs train MSE: 0.00032\n",
      "970 Epochs train MSE: 0.00031\n",
      "980 Epochs train MSE: 0.00032\n",
      "990 Epochs train MSE: 0.00031\n"
     ]
    }
   ],
   "source": [
    "window_x = torch.tensor(window_x).float().to(device)\n",
    "window_y = torch.tensor(window_y).float().to(device)\n",
    "\n",
    "# Train model\n",
    "optimizer = torch.optim.Adam(model.parameters(), lr = 1e-2)\n",
    "criterion = nn.MSELoss(size_average = True)\n",
    "num_epochs  = 1000\n",
    "train_error = []\n",
    "for t in range(num_epochs):\n",
    "    model.train()\n",
    "    optimizer.zero_grad()\n",
    "    \n",
    "    train_pred = model(window_x)\n",
    "#     print('x.shape: ', train_pred.shape)\n",
    "#     print('y.shape: ', window_y.shape)\n",
    "    loss = criterion(train_pred, window_y) ### trend\n",
    "    train_error.append(loss)\n",
    "    loss.backward()\n",
    "    optimizer.step()\n",
    "    if t % 10 == 0 and t !=0:\n",
    "        print(f\"{t} Epochs train MSE: {loss.item():1.5f}\")\n",
    "        #0.00038 lr=1e-3"
   ]
  },
  {
   "cell_type": "markdown",
   "metadata": {},
   "source": [
    "# 예측"
   ]
  },
  {
   "cell_type": "code",
   "execution_count": 29,
   "metadata": {},
   "outputs": [
    {
     "name": "stdout",
     "output_type": "stream",
     "text": [
      "torch.Size([1, 30, 4])\n",
      "torch.Size([1, 30, 4])\n",
      "torch.Size([1, 30, 4])\n",
      "torch.Size([1, 30, 4])\n",
      "torch.Size([1, 30, 4])\n",
      "torch.Size([1, 30, 4])\n",
      "torch.Size([1, 30, 4])\n",
      "torch.Size([1, 30, 4])\n",
      "torch.Size([1, 30, 4])\n"
     ]
    },
    {
     "data": {
      "text/html": [
       "<div>\n",
       "<style scoped>\n",
       "    .dataframe tbody tr th:only-of-type {\n",
       "        vertical-align: middle;\n",
       "    }\n",
       "\n",
       "    .dataframe tbody tr th {\n",
       "        vertical-align: top;\n",
       "    }\n",
       "\n",
       "    .dataframe thead th {\n",
       "        text-align: right;\n",
       "    }\n",
       "</style>\n",
       "<table border=\"1\" class=\"dataframe\">\n",
       "  <thead>\n",
       "    <tr style=\"text-align: right;\">\n",
       "      <th></th>\n",
       "      <th>DateTime</th>\n",
       "      <th>사용자</th>\n",
       "      <th>세션</th>\n",
       "      <th>신규방문자</th>\n",
       "      <th>페이지뷰</th>\n",
       "    </tr>\n",
       "  </thead>\n",
       "  <tbody>\n",
       "    <tr>\n",
       "      <th>0</th>\n",
       "      <td>2020-11-09</td>\n",
       "      <td>2019</td>\n",
       "      <td>1931</td>\n",
       "      <td>432</td>\n",
       "      <td>45557</td>\n",
       "    </tr>\n",
       "    <tr>\n",
       "      <th>1</th>\n",
       "      <td>2020-11-10</td>\n",
       "      <td>4672</td>\n",
       "      <td>4656</td>\n",
       "      <td>1251</td>\n",
       "      <td>123210</td>\n",
       "    </tr>\n",
       "    <tr>\n",
       "      <th>2</th>\n",
       "      <td>2020-11-11</td>\n",
       "      <td>5355</td>\n",
       "      <td>5218</td>\n",
       "      <td>1475</td>\n",
       "      <td>147991</td>\n",
       "    </tr>\n",
       "    <tr>\n",
       "      <th>3</th>\n",
       "      <td>2020-11-12</td>\n",
       "      <td>4359</td>\n",
       "      <td>4305</td>\n",
       "      <td>1150</td>\n",
       "      <td>109052</td>\n",
       "    </tr>\n",
       "    <tr>\n",
       "      <th>4</th>\n",
       "      <td>2020-11-13</td>\n",
       "      <td>4104</td>\n",
       "      <td>4030</td>\n",
       "      <td>1001</td>\n",
       "      <td>103077</td>\n",
       "    </tr>\n",
       "    <tr>\n",
       "      <th>...</th>\n",
       "      <td>...</td>\n",
       "      <td>...</td>\n",
       "      <td>...</td>\n",
       "      <td>...</td>\n",
       "      <td>...</td>\n",
       "    </tr>\n",
       "    <tr>\n",
       "      <th>56</th>\n",
       "      <td>2021-01-04</td>\n",
       "      <td>3187</td>\n",
       "      <td>3172</td>\n",
       "      <td>793</td>\n",
       "      <td>75057</td>\n",
       "    </tr>\n",
       "    <tr>\n",
       "      <th>57</th>\n",
       "      <td>2021-01-05</td>\n",
       "      <td>3460</td>\n",
       "      <td>3419</td>\n",
       "      <td>807</td>\n",
       "      <td>90530</td>\n",
       "    </tr>\n",
       "    <tr>\n",
       "      <th>58</th>\n",
       "      <td>2021-01-06</td>\n",
       "      <td>3805</td>\n",
       "      <td>3759</td>\n",
       "      <td>870</td>\n",
       "      <td>102277</td>\n",
       "    </tr>\n",
       "    <tr>\n",
       "      <th>59</th>\n",
       "      <td>2021-01-07</td>\n",
       "      <td>3318</td>\n",
       "      <td>3316</td>\n",
       "      <td>747</td>\n",
       "      <td>86064</td>\n",
       "    </tr>\n",
       "    <tr>\n",
       "      <th>60</th>\n",
       "      <td>2021-01-08</td>\n",
       "      <td>2295</td>\n",
       "      <td>2261</td>\n",
       "      <td>445</td>\n",
       "      <td>58249</td>\n",
       "    </tr>\n",
       "  </tbody>\n",
       "</table>\n",
       "<p>61 rows × 5 columns</p>\n",
       "</div>"
      ],
      "text/plain": [
       "      DateTime   사용자    세션  신규방문자    페이지뷰\n",
       "0   2020-11-09  2019  1931    432   45557\n",
       "1   2020-11-10  4672  4656   1251  123210\n",
       "2   2020-11-11  5355  5218   1475  147991\n",
       "3   2020-11-12  4359  4305   1150  109052\n",
       "4   2020-11-13  4104  4030   1001  103077\n",
       "..         ...   ...   ...    ...     ...\n",
       "56  2021-01-04  3187  3172    793   75057\n",
       "57  2021-01-05  3460  3419    807   90530\n",
       "58  2021-01-06  3805  3759    870  102277\n",
       "59  2021-01-07  3318  3316    747   86064\n",
       "60  2021-01-08  2295  2261    445   58249\n",
       "\n",
       "[61 rows x 5 columns]"
      ]
     },
     "execution_count": 29,
     "metadata": {},
     "output_type": "execute_result"
    }
   ],
   "source": [
    "## input_window = 30\n",
    "## output_window = 7\n",
    "\n",
    "submission = pd.read_csv(\"./open_data/submission.csv\", encoding = 'euc-kr') \n",
    "last_month = torch.tensor(window_x[-1,:,:][np.newaxis,...]).float().to(device) #[1, 30, 4]\n",
    "\n",
    "for start in range((len(submission) - output_window)//7 + 2):\n",
    "    print(last_month.shape)\n",
    "    start = start * 7\n",
    "    next_week = model(last_month)\n",
    "    last_month = torch.cat((last_month[:,-23:], next_week), axis = 1)\n",
    "    \n",
    "    pred_week = next_week.cpu().detach().numpy().reshape(output_window,4)\n",
    "    pred_week = pred_week * size.values + mini.values\n",
    "    pred_week = pred_week.astype(int)\n",
    "    \n",
    "    if start/7 == (len(submission) - output_window)//7 + 1:\n",
    "        submission.iloc[start :, 1:] = pred_week[-submission.iloc[start :, 1:].shape[0]:,:]\n",
    "    else:\n",
    "        submission.iloc[start : start + output_window, 1:] = pred_week\n",
    "submission"
   ]
  },
  {
   "cell_type": "markdown",
   "metadata": {},
   "source": [
    "# 예측파일 저장"
   ]
  },
  {
   "cell_type": "code",
   "execution_count": null,
   "metadata": {},
   "outputs": [],
   "source": [
    "submission.to_csv('submission.csv', index = False, encoding = 'euc-kr')"
   ]
  },
  {
   "cell_type": "code",
   "execution_count": null,
   "metadata": {},
   "outputs": [],
   "source": []
  },
  {
   "cell_type": "code",
   "execution_count": null,
   "metadata": {},
   "outputs": [],
   "source": []
  },
  {
   "cell_type": "code",
   "execution_count": 27,
   "metadata": {},
   "outputs": [
    {
     "ename": "ValueError",
     "evalue": "cannot copy sequence with size 7 to array axis with dimension 0",
     "output_type": "error",
     "traceback": [
      "\u001b[1;31m---------------------------------------------------------------------------\u001b[0m",
      "\u001b[1;31mValueError\u001b[0m                                Traceback (most recent call last)",
      "\u001b[1;32m<ipython-input-27-e86e2def1548>\u001b[0m in \u001b[0;36m<module>\u001b[1;34m\u001b[0m\n\u001b[0;32m     16\u001b[0m \u001b[1;33m\u001b[0m\u001b[0m\n\u001b[0;32m     17\u001b[0m     \u001b[1;32mif\u001b[0m \u001b[0mstart\u001b[0m\u001b[1;33m/\u001b[0m\u001b[1;36m21\u001b[0m \u001b[1;33m==\u001b[0m \u001b[1;33m(\u001b[0m\u001b[0mlen\u001b[0m\u001b[1;33m(\u001b[0m\u001b[0msubmission\u001b[0m\u001b[1;33m)\u001b[0m \u001b[1;33m-\u001b[0m \u001b[0moutput_window\u001b[0m\u001b[1;33m)\u001b[0m\u001b[1;33m//\u001b[0m\u001b[1;36m21\u001b[0m \u001b[1;33m+\u001b[0m \u001b[1;36m1\u001b[0m\u001b[1;33m:\u001b[0m\u001b[1;33m\u001b[0m\u001b[1;33m\u001b[0m\u001b[0m\n\u001b[1;32m---> 18\u001b[1;33m         \u001b[0msubmission\u001b[0m\u001b[1;33m.\u001b[0m\u001b[0miloc\u001b[0m\u001b[1;33m[\u001b[0m\u001b[0mstart\u001b[0m \u001b[1;33m:\u001b[0m\u001b[1;33m,\u001b[0m \u001b[1;36m1\u001b[0m\u001b[1;33m:\u001b[0m\u001b[1;33m]\u001b[0m \u001b[1;33m=\u001b[0m \u001b[0mpred_3week\u001b[0m\u001b[1;33m[\u001b[0m\u001b[1;33m-\u001b[0m\u001b[0msubmission\u001b[0m\u001b[1;33m.\u001b[0m\u001b[0miloc\u001b[0m\u001b[1;33m[\u001b[0m\u001b[0mstart\u001b[0m \u001b[1;33m:\u001b[0m\u001b[1;33m,\u001b[0m \u001b[1;36m1\u001b[0m\u001b[1;33m:\u001b[0m\u001b[1;33m]\u001b[0m\u001b[1;33m.\u001b[0m\u001b[0mshape\u001b[0m\u001b[1;33m[\u001b[0m\u001b[1;36m0\u001b[0m\u001b[1;33m]\u001b[0m\u001b[1;33m:\u001b[0m\u001b[1;33m,\u001b[0m\u001b[1;33m:\u001b[0m\u001b[1;33m]\u001b[0m\u001b[1;33m\u001b[0m\u001b[1;33m\u001b[0m\u001b[0m\n\u001b[0m\u001b[0;32m     19\u001b[0m     \u001b[1;32melse\u001b[0m\u001b[1;33m:\u001b[0m\u001b[1;33m\u001b[0m\u001b[1;33m\u001b[0m\u001b[0m\n\u001b[0;32m     20\u001b[0m         \u001b[0msubmission\u001b[0m\u001b[1;33m.\u001b[0m\u001b[0miloc\u001b[0m\u001b[1;33m[\u001b[0m\u001b[0mstart\u001b[0m \u001b[1;33m:\u001b[0m \u001b[0mstart\u001b[0m \u001b[1;33m+\u001b[0m \u001b[0moutput_window\u001b[0m\u001b[1;33m,\u001b[0m \u001b[1;36m1\u001b[0m\u001b[1;33m:\u001b[0m\u001b[1;33m]\u001b[0m \u001b[1;33m=\u001b[0m \u001b[0mpred_3week\u001b[0m\u001b[1;33m\u001b[0m\u001b[1;33m\u001b[0m\u001b[0m\n",
      "\u001b[1;32m~\\anaconda3\\envs\\pytorch_python3.7\\lib\\site-packages\\pandas\\core\\indexing.py\u001b[0m in \u001b[0;36m__setitem__\u001b[1;34m(self, key, value)\u001b[0m\n\u001b[0;32m    668\u001b[0m \u001b[1;33m\u001b[0m\u001b[0m\n\u001b[0;32m    669\u001b[0m         \u001b[0miloc\u001b[0m \u001b[1;33m=\u001b[0m \u001b[0mself\u001b[0m \u001b[1;32mif\u001b[0m \u001b[0mself\u001b[0m\u001b[1;33m.\u001b[0m\u001b[0mname\u001b[0m \u001b[1;33m==\u001b[0m \u001b[1;34m\"iloc\"\u001b[0m \u001b[1;32melse\u001b[0m \u001b[0mself\u001b[0m\u001b[1;33m.\u001b[0m\u001b[0mobj\u001b[0m\u001b[1;33m.\u001b[0m\u001b[0miloc\u001b[0m\u001b[1;33m\u001b[0m\u001b[1;33m\u001b[0m\u001b[0m\n\u001b[1;32m--> 670\u001b[1;33m         \u001b[0miloc\u001b[0m\u001b[1;33m.\u001b[0m\u001b[0m_setitem_with_indexer\u001b[0m\u001b[1;33m(\u001b[0m\u001b[0mindexer\u001b[0m\u001b[1;33m,\u001b[0m \u001b[0mvalue\u001b[0m\u001b[1;33m)\u001b[0m\u001b[1;33m\u001b[0m\u001b[1;33m\u001b[0m\u001b[0m\n\u001b[0m\u001b[0;32m    671\u001b[0m \u001b[1;33m\u001b[0m\u001b[0m\n\u001b[0;32m    672\u001b[0m     \u001b[1;32mdef\u001b[0m \u001b[0m_validate_key\u001b[0m\u001b[1;33m(\u001b[0m\u001b[0mself\u001b[0m\u001b[1;33m,\u001b[0m \u001b[0mkey\u001b[0m\u001b[1;33m,\u001b[0m \u001b[0maxis\u001b[0m\u001b[1;33m:\u001b[0m \u001b[0mint\u001b[0m\u001b[1;33m)\u001b[0m\u001b[1;33m:\u001b[0m\u001b[1;33m\u001b[0m\u001b[1;33m\u001b[0m\u001b[0m\n",
      "\u001b[1;32m~\\anaconda3\\envs\\pytorch_python3.7\\lib\\site-packages\\pandas\\core\\indexing.py\u001b[0m in \u001b[0;36m_setitem_with_indexer\u001b[1;34m(self, indexer, value)\u001b[0m\n\u001b[0;32m   1734\u001b[0m                     \u001b[1;32mfor\u001b[0m \u001b[0mi\u001b[0m\u001b[1;33m,\u001b[0m \u001b[0mloc\u001b[0m \u001b[1;32min\u001b[0m \u001b[0menumerate\u001b[0m\u001b[1;33m(\u001b[0m\u001b[0milocs\u001b[0m\u001b[1;33m)\u001b[0m\u001b[1;33m:\u001b[0m\u001b[1;33m\u001b[0m\u001b[1;33m\u001b[0m\u001b[0m\n\u001b[0;32m   1735\u001b[0m                         \u001b[1;31m# setting with a list, re-coerces\u001b[0m\u001b[1;33m\u001b[0m\u001b[1;33m\u001b[0m\u001b[1;33m\u001b[0m\u001b[0m\n\u001b[1;32m-> 1736\u001b[1;33m                         \u001b[0misetter\u001b[0m\u001b[1;33m(\u001b[0m\u001b[0mloc\u001b[0m\u001b[1;33m,\u001b[0m \u001b[0mvalue\u001b[0m\u001b[1;33m[\u001b[0m\u001b[1;33m:\u001b[0m\u001b[1;33m,\u001b[0m \u001b[0mi\u001b[0m\u001b[1;33m]\u001b[0m\u001b[1;33m.\u001b[0m\u001b[0mtolist\u001b[0m\u001b[1;33m(\u001b[0m\u001b[1;33m)\u001b[0m\u001b[1;33m)\u001b[0m\u001b[1;33m\u001b[0m\u001b[1;33m\u001b[0m\u001b[0m\n\u001b[0m\u001b[0;32m   1737\u001b[0m \u001b[1;33m\u001b[0m\u001b[0m\n\u001b[0;32m   1738\u001b[0m                 elif (\n",
      "\u001b[1;32m~\\anaconda3\\envs\\pytorch_python3.7\\lib\\site-packages\\pandas\\core\\indexing.py\u001b[0m in \u001b[0;36misetter\u001b[1;34m(loc, v)\u001b[0m\n\u001b[0;32m   1689\u001b[0m                     \u001b[1;31m# set the item, possibly having a dtype change\u001b[0m\u001b[1;33m\u001b[0m\u001b[1;33m\u001b[0m\u001b[1;33m\u001b[0m\u001b[0m\n\u001b[0;32m   1690\u001b[0m                     \u001b[0mser\u001b[0m \u001b[1;33m=\u001b[0m \u001b[0mser\u001b[0m\u001b[1;33m.\u001b[0m\u001b[0mcopy\u001b[0m\u001b[1;33m(\u001b[0m\u001b[1;33m)\u001b[0m\u001b[1;33m\u001b[0m\u001b[1;33m\u001b[0m\u001b[0m\n\u001b[1;32m-> 1691\u001b[1;33m                     \u001b[0mser\u001b[0m\u001b[1;33m.\u001b[0m\u001b[0m_mgr\u001b[0m \u001b[1;33m=\u001b[0m \u001b[0mser\u001b[0m\u001b[1;33m.\u001b[0m\u001b[0m_mgr\u001b[0m\u001b[1;33m.\u001b[0m\u001b[0msetitem\u001b[0m\u001b[1;33m(\u001b[0m\u001b[0mindexer\u001b[0m\u001b[1;33m=\u001b[0m\u001b[0mpi\u001b[0m\u001b[1;33m,\u001b[0m \u001b[0mvalue\u001b[0m\u001b[1;33m=\u001b[0m\u001b[0mv\u001b[0m\u001b[1;33m)\u001b[0m\u001b[1;33m\u001b[0m\u001b[1;33m\u001b[0m\u001b[0m\n\u001b[0m\u001b[0;32m   1692\u001b[0m                     \u001b[0mser\u001b[0m\u001b[1;33m.\u001b[0m\u001b[0m_maybe_update_cacher\u001b[0m\u001b[1;33m(\u001b[0m\u001b[0mclear\u001b[0m\u001b[1;33m=\u001b[0m\u001b[1;32mTrue\u001b[0m\u001b[1;33m)\u001b[0m\u001b[1;33m\u001b[0m\u001b[1;33m\u001b[0m\u001b[0m\n\u001b[0;32m   1693\u001b[0m \u001b[1;33m\u001b[0m\u001b[0m\n",
      "\u001b[1;32m~\\anaconda3\\envs\\pytorch_python3.7\\lib\\site-packages\\pandas\\core\\internals\\managers.py\u001b[0m in \u001b[0;36msetitem\u001b[1;34m(self, indexer, value)\u001b[0m\n\u001b[0;32m    532\u001b[0m \u001b[1;33m\u001b[0m\u001b[0m\n\u001b[0;32m    533\u001b[0m     \u001b[1;32mdef\u001b[0m \u001b[0msetitem\u001b[0m\u001b[1;33m(\u001b[0m\u001b[0mself\u001b[0m\u001b[1;33m,\u001b[0m \u001b[0mindexer\u001b[0m\u001b[1;33m,\u001b[0m \u001b[0mvalue\u001b[0m\u001b[1;33m)\u001b[0m \u001b[1;33m->\u001b[0m \u001b[1;34m\"BlockManager\"\u001b[0m\u001b[1;33m:\u001b[0m\u001b[1;33m\u001b[0m\u001b[1;33m\u001b[0m\u001b[0m\n\u001b[1;32m--> 534\u001b[1;33m         \u001b[1;32mreturn\u001b[0m \u001b[0mself\u001b[0m\u001b[1;33m.\u001b[0m\u001b[0mapply\u001b[0m\u001b[1;33m(\u001b[0m\u001b[1;34m\"setitem\"\u001b[0m\u001b[1;33m,\u001b[0m \u001b[0mindexer\u001b[0m\u001b[1;33m=\u001b[0m\u001b[0mindexer\u001b[0m\u001b[1;33m,\u001b[0m \u001b[0mvalue\u001b[0m\u001b[1;33m=\u001b[0m\u001b[0mvalue\u001b[0m\u001b[1;33m)\u001b[0m\u001b[1;33m\u001b[0m\u001b[1;33m\u001b[0m\u001b[0m\n\u001b[0m\u001b[0;32m    535\u001b[0m \u001b[1;33m\u001b[0m\u001b[0m\n\u001b[0;32m    536\u001b[0m     def putmask(\n",
      "\u001b[1;32m~\\anaconda3\\envs\\pytorch_python3.7\\lib\\site-packages\\pandas\\core\\internals\\managers.py\u001b[0m in \u001b[0;36mapply\u001b[1;34m(self, f, align_keys, **kwargs)\u001b[0m\n\u001b[0;32m    404\u001b[0m                 \u001b[0mapplied\u001b[0m \u001b[1;33m=\u001b[0m \u001b[0mb\u001b[0m\u001b[1;33m.\u001b[0m\u001b[0mapply\u001b[0m\u001b[1;33m(\u001b[0m\u001b[0mf\u001b[0m\u001b[1;33m,\u001b[0m \u001b[1;33m**\u001b[0m\u001b[0mkwargs\u001b[0m\u001b[1;33m)\u001b[0m\u001b[1;33m\u001b[0m\u001b[1;33m\u001b[0m\u001b[0m\n\u001b[0;32m    405\u001b[0m             \u001b[1;32melse\u001b[0m\u001b[1;33m:\u001b[0m\u001b[1;33m\u001b[0m\u001b[1;33m\u001b[0m\u001b[0m\n\u001b[1;32m--> 406\u001b[1;33m                 \u001b[0mapplied\u001b[0m \u001b[1;33m=\u001b[0m \u001b[0mgetattr\u001b[0m\u001b[1;33m(\u001b[0m\u001b[0mb\u001b[0m\u001b[1;33m,\u001b[0m \u001b[0mf\u001b[0m\u001b[1;33m)\u001b[0m\u001b[1;33m(\u001b[0m\u001b[1;33m**\u001b[0m\u001b[0mkwargs\u001b[0m\u001b[1;33m)\u001b[0m\u001b[1;33m\u001b[0m\u001b[1;33m\u001b[0m\u001b[0m\n\u001b[0m\u001b[0;32m    407\u001b[0m             \u001b[0mresult_blocks\u001b[0m \u001b[1;33m=\u001b[0m \u001b[0m_extend_blocks\u001b[0m\u001b[1;33m(\u001b[0m\u001b[0mapplied\u001b[0m\u001b[1;33m,\u001b[0m \u001b[0mresult_blocks\u001b[0m\u001b[1;33m)\u001b[0m\u001b[1;33m\u001b[0m\u001b[1;33m\u001b[0m\u001b[0m\n\u001b[0;32m    408\u001b[0m \u001b[1;33m\u001b[0m\u001b[0m\n",
      "\u001b[1;32m~\\anaconda3\\envs\\pytorch_python3.7\\lib\\site-packages\\pandas\\core\\internals\\blocks.py\u001b[0m in \u001b[0;36msetitem\u001b[1;34m(self, indexer, value)\u001b[0m\n\u001b[0;32m    889\u001b[0m         \u001b[1;31m# set\u001b[0m\u001b[1;33m\u001b[0m\u001b[1;33m\u001b[0m\u001b[1;33m\u001b[0m\u001b[0m\n\u001b[0;32m    890\u001b[0m         \u001b[1;32melse\u001b[0m\u001b[1;33m:\u001b[0m\u001b[1;33m\u001b[0m\u001b[1;33m\u001b[0m\u001b[0m\n\u001b[1;32m--> 891\u001b[1;33m             \u001b[0mvalues\u001b[0m\u001b[1;33m[\u001b[0m\u001b[0mindexer\u001b[0m\u001b[1;33m]\u001b[0m \u001b[1;33m=\u001b[0m \u001b[0mvalue\u001b[0m\u001b[1;33m\u001b[0m\u001b[1;33m\u001b[0m\u001b[0m\n\u001b[0m\u001b[0;32m    892\u001b[0m \u001b[1;33m\u001b[0m\u001b[0m\n\u001b[0;32m    893\u001b[0m         \u001b[1;32mif\u001b[0m \u001b[0mtranspose\u001b[0m\u001b[1;33m:\u001b[0m\u001b[1;33m\u001b[0m\u001b[1;33m\u001b[0m\u001b[0m\n",
      "\u001b[1;31mValueError\u001b[0m: cannot copy sequence with size 7 to array axis with dimension 0"
     ]
    }
   ],
   "source": [
    "## input_window = 49\n",
    "## output_window = 21\n",
    "\n",
    "submission = pd.read_csv(\"./open_data/submission.csv\", encoding = 'euc-kr') # (61, 5)\n",
    "last_7week = torch.tensor(window_x[-1,:,:][np.newaxis,...]).float().to(device) # [1, 49, 4]\n",
    "\n",
    "for start in range((len(submission) - output_window)//21 + 2):\n",
    "#     print(last_7week.shape)\n",
    "    start = start * 21\n",
    "    next_3week = model(last_7week)\n",
    "    last_7week = torch.cat([last_7week[:, -28:], next_3week], axis = 1)\n",
    "    \n",
    "    pred_3week = next_3week.cpu().detach().numpy().reshape(output_window,4)\n",
    "    pred_3week = pred_3week * size.values + mini.values # 정규화 복원\n",
    "    pred_3week = pred_3week.astype(int)\n",
    "    \n",
    "    if start/21 == (len(submission) - output_window)//21 + 1:\n",
    "        submission.iloc[start :, 1:] = pred_3week[-submission.iloc[start :, 1:].shape[0]:,:]\n",
    "    else:\n",
    "        submission.iloc[start : start + output_window, 1:] = pred_3week\n",
    "submission"
   ]
  },
  {
   "cell_type": "code",
   "execution_count": null,
   "metadata": {},
   "outputs": [],
   "source": [
    "## input_window = 60\n",
    "## output_window = 30\n",
    "\n",
    "submission = pd.read_csv(\"./open_data/submission.csv\", encoding = 'euc-kr') # (61, 5)\n",
    "last_2month = torch.tensor(window_x[-1,:,:][np.newaxis,...]).float().to(device) # [1, 60, 4]\n",
    "\n",
    "for start in range((len(submission) - output_window)//30 + 2):\n",
    "    start = start * 30\n",
    "    next_month = model(last_2month)\n",
    "    last_2month = torch.cat([last_2month[:, -30:, :], next_month], axis = 1)\n",
    "    \n",
    "    pred_month = next_month.cpu().detach().numpy().reshape(output_window,4)\n",
    "    pred_month = pred_month * size.values + mini.values # 정규화 복원\n",
    "    pred_month = pred_month.astype(int)\n",
    "    \n",
    "    if start/30 == (len(submission) - output_window)//30 + 1:\n",
    "        submission.iloc[start :, 1:] = pred_month[-submission.iloc[start :, 1:].shape[0]:,:]\n",
    "    else:\n",
    "        submission.iloc[start : start + output_window, 1:] = pred_month\n",
    "submission"
   ]
  }
 ],
 "metadata": {
  "kernelspec": {
   "display_name": "Python 3",
   "language": "python",
   "name": "python3"
  },
  "language_info": {
   "codemirror_mode": {
    "name": "ipython",
    "version": 3
   },
   "file_extension": ".py",
   "mimetype": "text/x-python",
   "name": "python",
   "nbconvert_exporter": "python",
   "pygments_lexer": "ipython3",
   "version": "3.7.9"
  },
  "toc": {
   "base_numbering": 1,
   "nav_menu": {},
   "number_sections": true,
   "sideBar": true,
   "skip_h1_title": false,
   "title_cell": "Table of Contents",
   "title_sidebar": "Contents",
   "toc_cell": false,
   "toc_position": {},
   "toc_section_display": true,
   "toc_window_display": false
  }
 },
 "nbformat": 4,
 "nbformat_minor": 4
}
