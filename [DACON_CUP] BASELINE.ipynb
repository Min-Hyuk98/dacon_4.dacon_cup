{
 "cells": [
  {
   "cell_type": "markdown",
   "metadata": {},
   "source": [
    "# library import"
   ]
  },
  {
   "cell_type": "code",
   "execution_count": 75,
   "metadata": {},
   "outputs": [],
   "source": [
    "import pandas as pd\n",
    "import numpy as np\n",
    "import warnings\n",
    "warnings.filterwarnings(action='ignore')\n",
    "import torch\n",
    "import torch.nn as nn\n",
    "import torch.nn.functional as F\n",
    "import torchvision\n",
    "import torchvision.transforms as transforms\n",
    "from torch.utils.data import Dataset,DataLoader\n",
    "import torch.optim as optim\n",
    "torch.manual_seed(1015)\n",
    "# define 'device' to upload tensor in gpu\n",
    "device = torch.device(\"cuda:0\" if torch.cuda.is_available() else \"cpu\")"
   ]
  },
  {
   "cell_type": "markdown",
   "metadata": {},
   "source": [
    "# 데이터 불러오기"
   ]
  },
  {
   "cell_type": "code",
   "execution_count": 76,
   "metadata": {},
   "outputs": [],
   "source": [
    "train = pd.read_csv(\"../../1. 데이터/open_data/train.csv\", encoding = 'euc-kr')\n",
    "train['DateTime'] = pd.to_datetime(train.DateTime)\n",
    "train['date'] = train.DateTime.dt.date\n",
    "train  = train.groupby('date').sum().reset_index()"
   ]
  },
  {
   "cell_type": "markdown",
   "metadata": {},
   "source": [
    "# 데이터 수정"
   ]
  },
  {
   "cell_type": "code",
   "execution_count": 77,
   "metadata": {},
   "outputs": [],
   "source": [
    "# scaling\n",
    "mini = train.iloc[:,1:].min()\n",
    "size = train.iloc[:,1:].max() - train.iloc[:,1:].min()\n",
    "train.iloc[:,1:] = (train.iloc[:,1:] -  mini) / size\n",
    "\n",
    "input_window = 30\n",
    "output_window = 7\n",
    "\n",
    "window_x = np.zeros((train.shape[0] - (input_window + output_window), input_window, 4))\n",
    "window_y = np.zeros((train.shape[0] - (input_window + output_window), output_window, 4))\n",
    "\n",
    "for start in range(train.shape[0] - (input_window + output_window)):\n",
    "    end = start + input_window    \n",
    "    window_x[start,:, :] = train.iloc[start : end                , 1: ].values\n",
    "    window_y[start,:, :] = train.iloc[end   : end + output_window, 1: ].values"
   ]
  },
  {
   "cell_type": "markdown",
   "metadata": {},
   "source": [
    "# model 생성"
   ]
  },
  {
   "cell_type": "code",
   "execution_count": 78,
   "metadata": {},
   "outputs": [],
   "source": [
    "class LSTM(nn.Module):\n",
    "    def __init__(self, input_size, hidden_size):\n",
    "        super(LSTM, self).__init__()\n",
    "        self.hidden_size = hidden_size\n",
    "        self.lstm = nn.LSTM(input_size = input_size,\n",
    "                            hidden_size = hidden_size,\n",
    "                            batch_first=True)\n",
    "        self.hidden_lstm = nn.LSTM(input_size = hidden_size,\n",
    "                                   hidden_size = hidden_size,\n",
    "                                   batch_first=True)\n",
    "        \n",
    "        self.time_fc = nn.Linear(hidden_size, 4)\n",
    "    \n",
    "    def forward(self, x_time):\n",
    "    \n",
    "        out_time, _ = self.lstm(x_time)\n",
    "        out_time, _ = self.hidden_lstm(out_time)\n",
    "        out_time, _ = self.hidden_lstm(out_time)\n",
    "        out_time, _ = self.hidden_lstm(out_time)\n",
    "        \n",
    "        \n",
    "        out_time = self.time_fc(out_time[:,-7:, :])\n",
    "        \n",
    "        return out_time.view(-1,7,4)\n",
    "    \n",
    "model = LSTM(input_size = 4, hidden_size = 30).to(device)"
   ]
  },
  {
   "cell_type": "markdown",
   "metadata": {},
   "source": [
    "# 학습"
   ]
  },
  {
   "cell_type": "code",
   "execution_count": 79,
   "metadata": {
    "scrolled": true
   },
   "outputs": [
    {
     "name": "stdout",
     "output_type": "stream",
     "text": [
      "10 Epochs train MSE: 0.02835\n",
      "20 Epochs train MSE: 0.01247\n",
      "30 Epochs train MSE: 0.01252\n",
      "40 Epochs train MSE: 0.00992\n",
      "50 Epochs train MSE: 0.00823\n",
      "60 Epochs train MSE: 0.00807\n",
      "70 Epochs train MSE: 0.00796\n",
      "80 Epochs train MSE: 0.00788\n",
      "90 Epochs train MSE: 0.00779\n",
      "100 Epochs train MSE: 0.00768\n",
      "110 Epochs train MSE: 0.00748\n",
      "120 Epochs train MSE: 0.00708\n",
      "130 Epochs train MSE: 0.00704\n",
      "140 Epochs train MSE: 0.00642\n",
      "150 Epochs train MSE: 0.00630\n",
      "160 Epochs train MSE: 0.00614\n",
      "170 Epochs train MSE: 0.00605\n",
      "180 Epochs train MSE: 0.00592\n",
      "190 Epochs train MSE: 0.00568\n",
      "200 Epochs train MSE: 0.00554\n",
      "210 Epochs train MSE: 0.00578\n",
      "220 Epochs train MSE: 0.00613\n",
      "230 Epochs train MSE: 0.00559\n",
      "240 Epochs train MSE: 0.00613\n",
      "250 Epochs train MSE: 0.00543\n",
      "260 Epochs train MSE: 0.00507\n",
      "270 Epochs train MSE: 0.00485\n",
      "280 Epochs train MSE: 0.00459\n",
      "290 Epochs train MSE: 0.00442\n",
      "300 Epochs train MSE: 0.00426\n",
      "310 Epochs train MSE: 0.00419\n",
      "320 Epochs train MSE: 0.00379\n",
      "330 Epochs train MSE: 0.00362\n",
      "340 Epochs train MSE: 0.00335\n",
      "350 Epochs train MSE: 0.00358\n",
      "360 Epochs train MSE: 0.00300\n",
      "370 Epochs train MSE: 0.00298\n",
      "380 Epochs train MSE: 0.00272\n",
      "390 Epochs train MSE: 0.00246\n",
      "400 Epochs train MSE: 0.00235\n",
      "410 Epochs train MSE: 0.00232\n",
      "420 Epochs train MSE: 0.00216\n",
      "430 Epochs train MSE: 0.00348\n",
      "440 Epochs train MSE: 0.00228\n",
      "450 Epochs train MSE: 0.00206\n",
      "460 Epochs train MSE: 0.00185\n",
      "470 Epochs train MSE: 0.00175\n",
      "480 Epochs train MSE: 0.00168\n",
      "490 Epochs train MSE: 0.00161\n"
     ]
    }
   ],
   "source": [
    "window_x = torch.tensor(window_x).float().to(device)\n",
    "window_y = torch.tensor(window_y).float().to(device)\n",
    "\n",
    "# Train model\n",
    "optimizer = torch.optim.Adam(model.parameters(), lr = 1e-2)\n",
    "criterion = nn.MSELoss(size_average = True)\n",
    "num_epochs  = 500\n",
    "train_error = []\n",
    "for t in range(num_epochs):\n",
    "    train_pred = model(window_x)\n",
    "    loss = criterion(train_pred, window_y) ### trend\n",
    "    train_error.append(loss)\n",
    "    \n",
    "    optimizer.zero_grad()\n",
    "    loss.backward()\n",
    "    optimizer.step()\n",
    "    if t % 10 == 0 and t !=0:\n",
    "        print(f\"{t} Epochs train MSE: {loss.item():1.5f}\")"
   ]
  },
  {
   "cell_type": "markdown",
   "metadata": {},
   "source": [
    "# 예측"
   ]
  },
  {
   "cell_type": "code",
   "execution_count": 80,
   "metadata": {},
   "outputs": [
    {
     "data": {
      "text/html": [
       "<div>\n",
       "<style scoped>\n",
       "    .dataframe tbody tr th:only-of-type {\n",
       "        vertical-align: middle;\n",
       "    }\n",
       "\n",
       "    .dataframe tbody tr th {\n",
       "        vertical-align: top;\n",
       "    }\n",
       "\n",
       "    .dataframe thead th {\n",
       "        text-align: right;\n",
       "    }\n",
       "</style>\n",
       "<table border=\"1\" class=\"dataframe\">\n",
       "  <thead>\n",
       "    <tr style=\"text-align: right;\">\n",
       "      <th></th>\n",
       "      <th>DateTime</th>\n",
       "      <th>사용자</th>\n",
       "      <th>세션</th>\n",
       "      <th>신규방문자</th>\n",
       "      <th>페이지뷰</th>\n",
       "    </tr>\n",
       "  </thead>\n",
       "  <tbody>\n",
       "    <tr>\n",
       "      <th>0</th>\n",
       "      <td>2020-11-09</td>\n",
       "      <td>2102</td>\n",
       "      <td>2101</td>\n",
       "      <td>349</td>\n",
       "      <td>52157</td>\n",
       "    </tr>\n",
       "    <tr>\n",
       "      <th>1</th>\n",
       "      <td>2020-11-10</td>\n",
       "      <td>4940</td>\n",
       "      <td>4955</td>\n",
       "      <td>1273</td>\n",
       "      <td>128364</td>\n",
       "    </tr>\n",
       "    <tr>\n",
       "      <th>2</th>\n",
       "      <td>2020-11-11</td>\n",
       "      <td>5612</td>\n",
       "      <td>5614</td>\n",
       "      <td>1552</td>\n",
       "      <td>149229</td>\n",
       "    </tr>\n",
       "    <tr>\n",
       "      <th>3</th>\n",
       "      <td>2020-11-12</td>\n",
       "      <td>4441</td>\n",
       "      <td>4490</td>\n",
       "      <td>1199</td>\n",
       "      <td>120150</td>\n",
       "    </tr>\n",
       "    <tr>\n",
       "      <th>4</th>\n",
       "      <td>2020-11-13</td>\n",
       "      <td>3952</td>\n",
       "      <td>4140</td>\n",
       "      <td>1122</td>\n",
       "      <td>107881</td>\n",
       "    </tr>\n",
       "    <tr>\n",
       "      <th>...</th>\n",
       "      <td>...</td>\n",
       "      <td>...</td>\n",
       "      <td>...</td>\n",
       "      <td>...</td>\n",
       "      <td>...</td>\n",
       "    </tr>\n",
       "    <tr>\n",
       "      <th>56</th>\n",
       "      <td>2021-01-04</td>\n",
       "      <td>2177</td>\n",
       "      <td>2163</td>\n",
       "      <td>523</td>\n",
       "      <td>47459</td>\n",
       "    </tr>\n",
       "    <tr>\n",
       "      <th>57</th>\n",
       "      <td>2021-01-05</td>\n",
       "      <td>2165</td>\n",
       "      <td>2144</td>\n",
       "      <td>509</td>\n",
       "      <td>47366</td>\n",
       "    </tr>\n",
       "    <tr>\n",
       "      <th>58</th>\n",
       "      <td>2021-01-06</td>\n",
       "      <td>1589</td>\n",
       "      <td>1564</td>\n",
       "      <td>317</td>\n",
       "      <td>32201</td>\n",
       "    </tr>\n",
       "    <tr>\n",
       "      <th>59</th>\n",
       "      <td>2021-01-07</td>\n",
       "      <td>1501</td>\n",
       "      <td>1439</td>\n",
       "      <td>260</td>\n",
       "      <td>31169</td>\n",
       "    </tr>\n",
       "    <tr>\n",
       "      <th>60</th>\n",
       "      <td>2021-01-08</td>\n",
       "      <td>1685</td>\n",
       "      <td>1529</td>\n",
       "      <td>285</td>\n",
       "      <td>36563</td>\n",
       "    </tr>\n",
       "  </tbody>\n",
       "</table>\n",
       "<p>61 rows × 5 columns</p>\n",
       "</div>"
      ],
      "text/plain": [
       "      DateTime   사용자    세션  신규방문자    페이지뷰\n",
       "0   2020-11-09  2102  2101    349   52157\n",
       "1   2020-11-10  4940  4955   1273  128364\n",
       "2   2020-11-11  5612  5614   1552  149229\n",
       "3   2020-11-12  4441  4490   1199  120150\n",
       "4   2020-11-13  3952  4140   1122  107881\n",
       "..         ...   ...   ...    ...     ...\n",
       "56  2021-01-04  2177  2163    523   47459\n",
       "57  2021-01-05  2165  2144    509   47366\n",
       "58  2021-01-06  1589  1564    317   32201\n",
       "59  2021-01-07  1501  1439    260   31169\n",
       "60  2021-01-08  1685  1529    285   36563\n",
       "\n",
       "[61 rows x 5 columns]"
      ]
     },
     "execution_count": 80,
     "metadata": {},
     "output_type": "execute_result"
    }
   ],
   "source": [
    "submission = pd.read_csv(\"../../1. 데이터/open_data/submission.csv\", encoding = 'euc-kr')\n",
    "last_month = torch.tensor(window_x[-1,:,:][np.newaxis,...]).float().to(device)\n",
    "for start in range((len(submission) - output_window)//7 + 2):\n",
    "    start = start * 7\n",
    "    next_week = model(last_month)\n",
    "    last_month = torch.cat([last_month[-7:], next_week], axis = 1)\n",
    "    \n",
    "    pred_week = next_week.cpu().detach().numpy().reshape(output_window,4)\n",
    "    pred_week = pred_week * size.values + mini.values\n",
    "    pred_week = pred_week.astype(int)\n",
    "    \n",
    "    if start/7 == (len(submission) - output_window)//7 + 1:\n",
    "        submission.iloc[start :, 1:] = pred_week[-submission.iloc[start :, 1:].shape[0]:,:]\n",
    "    else:\n",
    "        submission.iloc[start : start + output_window, 1:] = pred_week\n",
    "submission"
   ]
  },
  {
   "cell_type": "markdown",
   "metadata": {},
   "source": [
    "# 예측파일 저장"
   ]
  },
  {
   "cell_type": "code",
   "execution_count": 81,
   "metadata": {},
   "outputs": [],
   "source": [
    "submission.to_csv('submission.csv', index = False, encoding = 'euc-kr')"
   ]
  }
 ],
 "metadata": {
  "kernelspec": {
   "display_name": "deep",
   "language": "python",
   "name": "deep"
  },
  "language_info": {
   "codemirror_mode": {
    "name": "ipython",
    "version": 3
   },
   "file_extension": ".py",
   "mimetype": "text/x-python",
   "name": "python",
   "nbconvert_exporter": "python",
   "pygments_lexer": "ipython3",
   "version": "3.8.5"
  },
  "toc": {
   "base_numbering": 1,
   "nav_menu": {},
   "number_sections": true,
   "sideBar": true,
   "skip_h1_title": false,
   "title_cell": "Table of Contents",
   "title_sidebar": "Contents",
   "toc_cell": false,
   "toc_position": {},
   "toc_section_display": true,
   "toc_window_display": false
  }
 },
 "nbformat": 4,
 "nbformat_minor": 4
}
